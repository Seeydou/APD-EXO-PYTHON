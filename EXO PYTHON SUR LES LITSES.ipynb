{
 "cells": [
  {
   "cell_type": "markdown",
   "id": "725a8c38",
   "metadata": {},
   "source": [
    "# EXO1"
   ]
  },
  {
   "cell_type": "code",
   "execution_count": 16,
   "id": "7c53bdf1",
   "metadata": {},
   "outputs": [
    {
     "name": "stdout",
     "output_type": "stream",
     "text": [
      "['les apprenants de apd sont intelligences']\n"
     ]
    }
   ],
   "source": [
    "a=[\"les apprenants de apd sont intelligences\"]\n",
    "for i in a:\n",
    "    print(a)\n",
    "    "
   ]
  },
  {
   "cell_type": "markdown",
   "id": "550fcd53",
   "metadata": {},
   "source": [
    "# exo2"
   ]
  },
  {
   "cell_type": "code",
   "execution_count": 28,
   "id": "bfffd886",
   "metadata": {},
   "outputs": [
    {
     "name": "stdout",
     "output_type": "stream",
     "text": [
      "['f', 'g', 'h', 'i', 'l', 'm']\n"
     ]
    }
   ],
   "source": [
    "ma_liste=[\"a\",\"b\",\"c\",\"d\",\"e\",\"f\",\"g\",\"h\",\"i\",\"l\",\"m\"]\n",
    "print(ma_liste[5:])"
   ]
  },
  {
   "cell_type": "markdown",
   "id": "dd872192",
   "metadata": {},
   "source": [
    "# exo3"
   ]
  },
  {
   "cell_type": "code",
   "execution_count": 37,
   "id": "73f196a8",
   "metadata": {},
   "outputs": [
    {
     "name": "stdout",
     "output_type": "stream",
     "text": [
      "a\n",
      "u\n",
      "o\n",
      "i\n",
      "y\n"
     ]
    }
   ],
   "source": [
    "def nvoyelle():\n",
    "    nvoyelle=[\"a\",\"u\",\"o\",\"i\",\"y\"]\n",
    "    for i in nvoyelle:\n",
    "              print(i)\n",
    "              \n",
    "\n",
    "            \n",
    "nvoyelle()\n",
    "              \n",
    "\n",
    "    "
   ]
  },
  {
   "cell_type": "code",
   "execution_count": null,
   "id": "6a27d808",
   "metadata": {},
   "outputs": [],
   "source": []
  },
  {
   "cell_type": "markdown",
   "id": "5917ddf9",
   "metadata": {},
   "source": [
    "# exo4"
   ]
  },
  {
   "cell_type": "code",
   "execution_count": 30,
   "id": "be010bee",
   "metadata": {},
   "outputs": [
    {
     "name": "stdout",
     "output_type": "stream",
     "text": [
      "DEV\n",
      "l impossible n est pas apd\n",
      "GDE\n",
      "RESEAU\n"
     ]
    }
   ],
   "source": [
    "filiere=[\"DEV\",\"l impossible n est pas apd\",\"GDE\",\"RESEAU\"]\n",
    "for i in filiere:\n",
    "    print(i)\n"
   ]
  },
  {
   "cell_type": "markdown",
   "id": "a6ecbf39",
   "metadata": {},
   "source": [
    "# exo5"
   ]
  },
  {
   "cell_type": "code",
   "execution_count": 33,
   "id": "4b6e8313",
   "metadata": {},
   "outputs": [
    {
     "name": "stdout",
     "output_type": "stream",
     "text": [
      "nombre paire: [2, 4, 6, 8, 10]\n",
      "Nombres impaires: [1, 3, 5, 7, 9]\n"
     ]
    }
   ],
   "source": [
    "\n",
    "liste = [1,2,3,4,5,6,7,8,9,10]\n",
    "paire= []\n",
    "impaires = []\n",
    "i = 0\n",
    "while i < len(liste):\n",
    "    if liste[i] % 2 == 0:\n",
    "         paire.append(liste[i])\n",
    "    else:\n",
    "         impaires.append(liste[i])\n",
    "    i = i + 1\n",
    "print (\"nombre paire:\", paire)\n",
    "print (\"Nombres impaires:\", impaires)\n"
   ]
  },
  {
   "cell_type": "markdown",
   "id": "1a11414c",
   "metadata": {},
   "source": [
    "# exo6"
   ]
  },
  {
   "cell_type": "code",
   "execution_count": 9,
   "id": "5182b1f0",
   "metadata": {},
   "outputs": [
    {
     "name": "stdout",
     "output_type": "stream",
     "text": [
      "['seydou', 'Modou', 'Omar', 'Ibou', 'Demba', 'fatou', 'Saly', 'Maty', 'Seynabou', 'Sene']\n"
     ]
    }
   ],
   "source": [
    "\n",
    "homme= [\"seydou\",\"Modou\",\"Omar\",\"Ibou\",\"Demba\"]\n",
    "femme= [\"fatou\",\"Saly\",\"Maty\",\"Seynabou\",\"Sene\"]\n",
    "personne=homme+femme\n",
    "homme.extend(homme)\n",
    "print(personne)\n",
    "\n",
    "\n",
    "\n"
   ]
  },
  {
   "cell_type": "markdown",
   "id": "30da61c6",
   "metadata": {},
   "source": [
    "# exo10"
   ]
  },
  {
   "cell_type": "code",
   "execution_count": 5,
   "id": "31d9ba8b",
   "metadata": {},
   "outputs": [
    {
     "name": "stdout",
     "output_type": "stream",
     "text": [
      "2\n"
     ]
    }
   ],
   "source": [
    "c=\"merci Mr Niang\"\n",
    "ni=0\n",
    "for i in c:\n",
    "    if i==\"i\":\n",
    "        ni=ni+1\n",
    "print(ni)\n",
    "    "
   ]
  },
  {
   "cell_type": "markdown",
   "id": "45612ba1",
   "metadata": {},
   "source": [
    "# exo8"
   ]
  },
  {
   "cell_type": "code",
   "execution_count": 13,
   "id": "e5b2bf12",
   "metadata": {},
   "outputs": [
    {
     "ename": "NameError",
     "evalue": "name 'Minlist' is not defined",
     "output_type": "error",
     "traceback": [
      "\u001b[1;31m---------------------------------------------------------------------------\u001b[0m",
      "\u001b[1;31mNameError\u001b[0m                                 Traceback (most recent call last)",
      "\u001b[1;32m<ipython-input-13-43efcc96ebe8>\u001b[0m in \u001b[0;36m<module>\u001b[1;34m\u001b[0m\n\u001b[0;32m     13\u001b[0m             \u001b[1;32mreturn\u001b[0m \u001b[0mmaximum\u001b[0m\u001b[1;33m\u001b[0m\u001b[1;33m\u001b[0m\u001b[0m\n\u001b[0;32m     14\u001b[0m \u001b[1;33m\u001b[0m\u001b[0m\n\u001b[1;32m---> 15\u001b[1;33m \u001b[0mprint\u001b[0m\u001b[1;33m(\u001b[0m\u001b[1;34m\"le plus petit element est :\"\u001b[0m\u001b[1;33m,\u001b[0m \u001b[0mMinlist\u001b[0m\u001b[1;33m(\u001b[0m\u001b[0mliste\u001b[0m\u001b[1;33m)\u001b[0m\u001b[1;33m)\u001b[0m\u001b[1;33m\u001b[0m\u001b[1;33m\u001b[0m\u001b[0m\n\u001b[0m\u001b[0;32m     16\u001b[0m \u001b[0mprint\u001b[0m\u001b[1;33m(\u001b[0m\u001b[1;34m\"le plus grand element est :\"\u001b[0m\u001b[1;33m,\u001b[0m \u001b[0mMaxlist\u001b[0m\u001b[1;33m(\u001b[0m\u001b[0mliste\u001b[0m\u001b[1;33m)\u001b[0m\u001b[1;33m)\u001b[0m\u001b[1;33m\u001b[0m\u001b[1;33m\u001b[0m\u001b[0m\n\u001b[0;32m     17\u001b[0m \u001b[1;33m\u001b[0m\u001b[0m\n",
      "\u001b[1;31mNameError\u001b[0m: name 'Minlist' is not defined"
     ]
    }
   ],
   "source": [
    "liste=[10,3,7,12]\n",
    "def MinList(liste):\n",
    "    minimum=liste[0]\n",
    "    Maxlist(liste)\n",
    "    maximum=liste[0]\n",
    "    for x in liste:\n",
    "        if x < minimum:\n",
    "            minimum=x\n",
    "            return minimum\n",
    "    for y in liste:\n",
    "        if y> maximum:\n",
    "            maximum=y\n",
    "            return maximum\n",
    "        \n",
    "print(\"le plus petit element est :\", Minlist(liste))\n",
    "print(\"le plus grand element est :\", Maxlist(liste))\n",
    "\n",
    "\n"
   ]
  },
  {
   "cell_type": "markdown",
   "id": "4f5af77b",
   "metadata": {},
   "source": [
    "# EXO7"
   ]
  },
  {
   "cell_type": "code",
   "execution_count": 31,
   "id": "d1380bdd",
   "metadata": {},
   "outputs": [
    {
     "name": "stdout",
     "output_type": "stream",
     "text": [
      "le plus petit element est: 2\n"
     ]
    }
   ],
   "source": [
    "liste=[2,3,7,12,20]\n",
    "def Minlist(liste):\n",
    "    minimum=liste[0]\n",
    "    for x in liste:\n",
    "        if x < minimum:\n",
    "            minimum=x\n",
    "        return minimum\n",
    "\n",
    "print(\"le plus petit element est:\",Minlist(liste))\n",
    "        "
   ]
  },
  {
   "cell_type": "markdown",
   "id": "23f3dde0",
   "metadata": {},
   "source": [
    "# exo11"
   ]
  },
  {
   "cell_type": "code",
   "execution_count": 8,
   "id": "32173279",
   "metadata": {},
   "outputs": [
    {
     "name": "stdout",
     "output_type": "stream",
     "text": [
      "['devoir a rendre lundi']\n"
     ]
    }
   ],
   "source": [
    "i=[\"devoir a rendre lundi\"]\n",
    "print(i)\n"
   ]
  },
  {
   "cell_type": "code",
   "execution_count": null,
   "id": "1c03bc91",
   "metadata": {},
   "outputs": [],
   "source": []
  }
 ],
 "metadata": {
  "kernelspec": {
   "display_name": "Python 3",
   "language": "python",
   "name": "python3"
  },
  "language_info": {
   "codemirror_mode": {
    "name": "ipython",
    "version": 3
   },
   "file_extension": ".py",
   "mimetype": "text/x-python",
   "name": "python",
   "nbconvert_exporter": "python",
   "pygments_lexer": "ipython3",
   "version": "3.8.8"
  }
 },
 "nbformat": 4,
 "nbformat_minor": 5
}
