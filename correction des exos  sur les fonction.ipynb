{
 "cells": [
  {
   "cell_type": "markdown",
   "id": "808690e1",
   "metadata": {},
   "source": [
    "# exo8\n"
   ]
  },
  {
   "cell_type": "code",
   "execution_count": null,
   "id": "37531c1b",
   "metadata": {},
   "outputs": [],
   "source": []
  },
  {
   "cell_type": "code",
   "execution_count": 2,
   "id": "1d5bcd39",
   "metadata": {},
   "outputs": [
    {
     "name": "stdout",
     "output_type": "stream",
     "text": [
      "18\t17\t16\t\n",
      "15\t14\t13\t\n",
      "12\t11\t10\t\n",
      "9\t8\t7\t\n",
      "6\t5\t4\t\n",
      "3\t2\t1\t\n"
     ]
    }
   ],
   "source": [
    "c=1\n",
    "for i in range (18,0,-1):\n",
    "    print(i,end=\"\\t\")\n",
    "    if c %3==0 : print()\n",
    "    c+=1\n"
   ]
  },
  {
   "cell_type": "markdown",
   "id": "925ee373",
   "metadata": {},
   "source": [
    "# exo7"
   ]
  },
  {
   "cell_type": "code",
   "execution_count": 3,
   "id": "c03fcd96",
   "metadata": {},
   "outputs": [
    {
     "name": "stdout",
     "output_type": "stream",
     "text": [
      "le nombre de voyelle  du mot informatique est  6\n"
     ]
    }
   ],
   "source": [
    "x=\"informatique\"\n",
    "y=len(x)\n",
    "nvy=0\n",
    "for i in range (0,y):\n",
    "    if x [i] in [\"a\",\"e\",\"o\",\"u\",\"i\",\"y\"]:\n",
    "        nvy=nvy+1\n",
    "print(\"le nombre de voyelle  du mot informatique est \",nvy)\n"
   ]
  },
  {
   "cell_type": "markdown",
   "id": "12ac6397",
   "metadata": {},
   "source": [
    "# exo6"
   ]
  },
  {
   "cell_type": "code",
   "execution_count": 4,
   "id": "7da9d15e",
   "metadata": {},
   "outputs": [
    {
     "name": "stdout",
     "output_type": "stream",
     "text": [
      "entre un nombre d etoile5\n",
      "*\n",
      "**\n",
      "***\n",
      "****\n",
      "*****\n"
     ]
    }
   ],
   "source": [
    "x=int(input (\"entre un nombre d etoile\"))\n",
    "for i in range(1,x+1):\n",
    "    print(i*\"*\")\n"
   ]
  },
  {
   "cell_type": "markdown",
   "id": "075867b1",
   "metadata": {},
   "source": [
    "# exo9"
   ]
  },
  {
   "cell_type": "code",
   "execution_count": 20,
   "id": "ca3e6e6a",
   "metadata": {},
   "outputs": [
    {
     "name": "stdout",
     "output_type": "stream",
     "text": [
      "entre une note 12\n"
     ]
    },
    {
     "ename": "NameError",
     "evalue": "name 'n_min' is not defined",
     "output_type": "error",
     "traceback": [
      "\u001b[1;31m---------------------------------------------------------------------------\u001b[0m",
      "\u001b[1;31mNameError\u001b[0m                                 Traceback (most recent call last)",
      "\u001b[1;32m<ipython-input-20-64c3362050e5>\u001b[0m in \u001b[0;36m<module>\u001b[1;34m\u001b[0m\n\u001b[0;32m      6\u001b[0m     \u001b[0mn\u001b[0m\u001b[1;33m=\u001b[0m\u001b[0mint\u001b[0m\u001b[1;33m(\u001b[0m\u001b[0minput\u001b[0m\u001b[1;33m(\u001b[0m\u001b[1;34m\"entre une note \"\u001b[0m\u001b[1;33m)\u001b[0m\u001b[1;33m)\u001b[0m\u001b[1;33m\u001b[0m\u001b[1;33m\u001b[0m\u001b[0m\n\u001b[0;32m      7\u001b[0m     \u001b[0ms\u001b[0m\u001b[1;33m=\u001b[0m\u001b[0ms\u001b[0m\u001b[1;33m+\u001b[0m\u001b[0mn\u001b[0m\u001b[1;33m\u001b[0m\u001b[1;33m\u001b[0m\u001b[0m\n\u001b[1;32m----> 8\u001b[1;33m     \u001b[1;32mif\u001b[0m \u001b[0mn\u001b[0m\u001b[1;33m<=\u001b[0m\u001b[0mn_min\u001b[0m\u001b[1;33m:\u001b[0m\u001b[1;33m\u001b[0m\u001b[1;33m\u001b[0m\u001b[0m\n\u001b[0m\u001b[0;32m      9\u001b[0m         \u001b[0mn_min\u001b[0m\u001b[1;33m=\u001b[0m\u001b[0mn\u001b[0m\u001b[1;33m\u001b[0m\u001b[1;33m\u001b[0m\u001b[0m\n\u001b[0;32m     10\u001b[0m     \u001b[1;32mif\u001b[0m \u001b[0mn\u001b[0m\u001b[1;33m>\u001b[0m\u001b[0mn_max\u001b[0m\u001b[1;33m:\u001b[0m\u001b[1;33m\u001b[0m\u001b[1;33m\u001b[0m\u001b[0m\n",
      "\u001b[1;31mNameError\u001b[0m: name 'n_min' is not defined"
     ]
    }
   ],
   "source": [
    "s=0\n",
    "n_main=20\n",
    "n_max=0\n",
    "moy=1\n",
    "for i in range(1,11):\n",
    "    n=int(input(\"entre une note \"))\n",
    "    s=s+n\n",
    "    if n<=n_min:\n",
    "        n_min=n\n",
    "    if n>n_max:\n",
    "        n_max=n\n",
    "moy=s/10\n",
    "print(moy,\"est la moyennne\")\n",
    "print(n_max,\"est la maximale\")\n",
    "print(n_min,\"est la note minimale\")\n"
   ]
  },
  {
   "cell_type": "markdown",
   "id": "607038db",
   "metadata": {},
   "source": [
    "# exo10"
   ]
  },
  {
   "cell_type": "code",
   "execution_count": 16,
   "id": "c66f5c25",
   "metadata": {},
   "outputs": [
    {
     "name": "stdout",
     "output_type": "stream",
     "text": [
      "est ce vous etes adulte:ok\n",
      "veuillez taper oui ou non\n",
      "est ce vous etes adulte:merci\n",
      "veuillez taper oui ou non\n",
      "est ce vous etes adulte:non\n",
      "au revoir\n"
     ]
    }
   ],
   "source": [
    "while True:\n",
    "    question=input(\"est ce vous etes adulte:\")\n",
    "    \n",
    "    if question!=\"oui\" and question!=\"non\":\n",
    "        print(\"veuillez taper oui ou non\")\n",
    "    else:\n",
    "         break\n",
    "print(\"au revoir\")"
   ]
  },
  {
   "cell_type": "markdown",
   "id": "42524703",
   "metadata": {},
   "source": [
    "# exo11"
   ]
  },
  {
   "cell_type": "code",
   "execution_count": 23,
   "id": "85dbd1d5",
   "metadata": {},
   "outputs": [
    {
     "name": "stdout",
     "output_type": "stream",
     "text": [
      "quel est le nombre5\n",
      "est trop petit3\n",
      "est trop petit7\n",
      "est trop petit10\n",
      "est trop petit2\n",
      "est trop petit12\n",
      " vous avez perdu !!! le nombre est 45\n"
     ]
    }
   ],
   "source": [
    "from random import randint\n",
    "nd=randint (1,100)\n",
    "n=int (input(\"quel est le nombre\"))\n",
    "i=1\n",
    "while nd!=n and i<6:\n",
    "    i=i+1\n",
    "    if nd>n:\n",
    "        n=int(input(\"est trop petit\"))\n",
    "    else:\n",
    "        n=int(input(\"est trop grand\")) \n",
    "if nd==n:\n",
    "    print(\"bravo vous avez trouve le nombre\")\n",
    "    print(\"le nombre d esai est\" ,i)\n",
    "else:\n",
    "    print(\" vous avez perdu !!! le nombre est\",nd)\n",
    "    \n",
    "    "
   ]
  },
  {
   "cell_type": "markdown",
   "id": "f31a17f3",
   "metadata": {},
   "source": [
    "# EXO12"
   ]
  },
  {
   "cell_type": "code",
   "execution_count": 24,
   "id": "523484ba",
   "metadata": {},
   "outputs": [
    {
     "name": "stdout",
     "output_type": "stream",
     "text": [
      "entrer un nombre:15\n",
      "entrer un autre nombre:25\n",
      "le pgcd est  5\n"
     ]
    }
   ],
   "source": [
    "a=int(input(\"entrer un nombre:\"))\n",
    "b=int(input(\"entrer un autre nombre:\"))\n",
    "while a!=b:\n",
    "    if a>b:\n",
    "        a,b=(a-b),a\n",
    "    else:\n",
    "        a,b=a,(b-a)\n",
    "print(\"le pgcd est \",a)\n"
   ]
  },
  {
   "cell_type": "markdown",
   "id": "51be8568",
   "metadata": {},
   "source": [
    "# exo13"
   ]
  },
  {
   "cell_type": "code",
   "execution_count": 25,
   "id": "ec8afa58",
   "metadata": {},
   "outputs": [
    {
     "name": "stdout",
     "output_type": "stream",
     "text": [
      "0123456789\n",
      "\n",
      "0123456789\n",
      "\n",
      "0123456789\n",
      "\n",
      "0123456789\n",
      "\n",
      "0123456789\n",
      "\n"
     ]
    }
   ],
   "source": [
    "for i in range (0,5):\n",
    "    for i in range (0,10):\n",
    "        print(i,end=\"\")\n",
    "    print(\"\\n\")"
   ]
  },
  {
   "cell_type": "markdown",
   "id": "64301793",
   "metadata": {},
   "source": [
    "# EXO14"
   ]
  },
  {
   "cell_type": "code",
   "execution_count": 27,
   "id": "20f38cf3",
   "metadata": {},
   "outputs": [
    {
     "name": "stdout",
     "output_type": "stream",
     "text": [
      " entre un entier :1223\n",
      " la somme des entiers : 8\n"
     ]
    }
   ],
   "source": [
    "n=input(\" entre un entier :\")\n",
    "somme=0\n",
    "for i in range (0,4):\n",
    "    somme+=int(n[i])\n",
    "print(\" la somme des entiers :\",somme)"
   ]
  },
  {
   "cell_type": "markdown",
   "id": "dee94bb1",
   "metadata": {},
   "source": [
    "# exo15"
   ]
  },
  {
   "cell_type": "code",
   "execution_count": 35,
   "id": "f7f1ab02",
   "metadata": {},
   "outputs": [
    {
     "name": "stdout",
     "output_type": "stream",
     "text": [
      "la somme est : 284\n"
     ]
    }
   ],
   "source": [
    "def somme_carre():\n",
    "    somme=0\n",
    "    for i in range (2,10):\n",
    "        somme=somme+(i*i)\n",
    "    print(\"la somme est :\",somme)\n",
    "somme_carre()"
   ]
  },
  {
   "cell_type": "markdown",
   "id": "204c0153",
   "metadata": {},
   "source": [
    "# exo16"
   ]
  },
  {
   "cell_type": "code",
   "execution_count": 41,
   "id": "1a065156",
   "metadata": {},
   "outputs": [
    {
     "name": "stdout",
     "output_type": "stream",
     "text": [
      "22\n"
     ]
    }
   ],
   "source": [
    "def diviseur():\n",
    "    n=0\n",
    "    for i in range (150):\n",
    "        if i%7==0:\n",
    "            n=n+1\n",
    "        \n",
    "    return n\n",
    "print(diviseur())\n",
    "\n",
    "    "
   ]
  },
  {
   "cell_type": "code",
   "execution_count": 39,
   "id": "238209e4",
   "metadata": {},
   "outputs": [
    {
     "ename": "TypeError",
     "evalue": "diviseur() missing 1 required positional argument: 'a'",
     "output_type": "error",
     "traceback": [
      "\u001b[1;31m---------------------------------------------------------------------------\u001b[0m",
      "\u001b[1;31mTypeError\u001b[0m                                 Traceback (most recent call last)",
      "\u001b[1;32m<ipython-input-39-4ed3b7dbb770>\u001b[0m in \u001b[0;36m<module>\u001b[1;34m\u001b[0m\n\u001b[1;32m----> 1\u001b[1;33m \u001b[0mdiviseur\u001b[0m\u001b[1;33m(\u001b[0m\u001b[1;33m)\u001b[0m\u001b[1;33m\u001b[0m\u001b[1;33m\u001b[0m\u001b[0m\n\u001b[0m",
      "\u001b[1;31mTypeError\u001b[0m: diviseur() missing 1 required positional argument: 'a'"
     ]
    }
   ],
   "source": []
  },
  {
   "cell_type": "markdown",
   "id": "e9abe9f7",
   "metadata": {},
   "source": [
    "# exo17"
   ]
  },
  {
   "cell_type": "code",
   "execution_count": 45,
   "id": "cecaadd0",
   "metadata": {},
   "outputs": [
    {
     "name": "stdout",
     "output_type": "stream",
     "text": [
      "32\n"
     ]
    }
   ],
   "source": [
    "def carree ():\n",
    "    i=1\n",
    "    while i*i<=1000:\n",
    "        i=i+1\n",
    "    print(i)\n",
    "    \n",
    "carree()"
   ]
  },
  {
   "cell_type": "markdown",
   "id": "4b09152e",
   "metadata": {},
   "source": [
    "# exo18"
   ]
  },
  {
   "cell_type": "code",
   "execution_count": 50,
   "id": "6e2465d2",
   "metadata": {},
   "outputs": [
    {
     "data": {
      "text/plain": [
       "True"
      ]
     },
     "execution_count": 50,
     "metadata": {},
     "output_type": "execute_result"
    }
   ],
   "source": [
    "def Armstrong(n):\n",
    "    c=n//100\n",
    "    d=n%100//10\n",
    "    u=n%100%10\n",
    "    if (c**3)+(d**3)+(u**3)==n:\n",
    "        return True\n",
    "    else:\n",
    "        return False\n",
    "    \n",
    "Armstrong(153)"
   ]
  },
  {
   "cell_type": "code",
   "execution_count": null,
   "id": "a46c6d15",
   "metadata": {},
   "outputs": [],
   "source": []
  },
  {
   "cell_type": "markdown",
   "id": "1c953d8e",
   "metadata": {},
   "source": [
    "# exo19"
   ]
  },
  {
   "cell_type": "code",
   "execution_count": null,
   "id": "8578751a",
   "metadata": {},
   "outputs": [],
   "source": []
  },
  {
   "cell_type": "code",
   "execution_count": 52,
   "id": "ea30d66e",
   "metadata": {},
   "outputs": [
    {
     "ename": "SyntaxError",
     "evalue": "invalid syntax (<ipython-input-52-62a07fce1c38>, line 11)",
     "output_type": "error",
     "traceback": [
      "\u001b[1;36m  File \u001b[1;32m\"<ipython-input-52-62a07fce1c38>\"\u001b[1;36m, line \u001b[1;32m11\u001b[0m\n\u001b[1;33m    entre un nombre()\u001b[0m\n\u001b[1;37m          ^\u001b[0m\n\u001b[1;31mSyntaxError\u001b[0m\u001b[1;31m:\u001b[0m invalid syntax\n"
     ]
    }
   ],
   "source": [
    "a=int(input(\"entre un entier:\"))\n",
    "for i in range(1,n+1):\n",
    "    sa=0\n",
    "    for i in range(1,a):\n",
    "        if a%i==0:\n",
    "            sa=sa+1\n",
    "    if sa==a:\n",
    "        print(a)\n",
    "print(parfsit(int(input(\"entre un nombre:\"))))\n",
    "\n",
    "entre un nombre()\n",
    "    \n",
    "    "
   ]
  },
  {
   "cell_type": "code",
   "execution_count": 56,
   "id": "d4fe90de",
   "metadata": {},
   "outputs": [
    {
     "ename": "TypeError",
     "evalue": "can only concatenate str (not \"int\") to str",
     "output_type": "error",
     "traceback": [
      "\u001b[1;31m---------------------------------------------------------------------------\u001b[0m",
      "\u001b[1;31mTypeError\u001b[0m                                 Traceback (most recent call last)",
      "\u001b[1;32m<ipython-input-56-9db7095e94a1>\u001b[0m in \u001b[0;36m<module>\u001b[1;34m\u001b[0m\n\u001b[0;32m      7\u001b[0m         \u001b[1;32mif\u001b[0m \u001b[0msa\u001b[0m\u001b[1;33m==\u001b[0m\u001b[0ma\u001b[0m\u001b[1;33m:\u001b[0m\u001b[1;33m\u001b[0m\u001b[1;33m\u001b[0m\u001b[0m\n\u001b[0;32m      8\u001b[0m             \u001b[0mprint\u001b[0m\u001b[1;33m(\u001b[0m\u001b[0ma\u001b[0m\u001b[1;33m)\u001b[0m\u001b[1;33m\u001b[0m\u001b[1;33m\u001b[0m\u001b[0m\n\u001b[1;32m----> 9\u001b[1;33m \u001b[0mparfait\u001b[0m\u001b[1;33m(\u001b[0m\u001b[0mn\u001b[0m\u001b[1;33m)\u001b[0m\u001b[1;33m\u001b[0m\u001b[1;33m\u001b[0m\u001b[0m\n\u001b[0m\u001b[0;32m     10\u001b[0m \u001b[1;33m\u001b[0m\u001b[0m\n",
      "\u001b[1;32m<ipython-input-56-9db7095e94a1>\u001b[0m in \u001b[0;36mparfait\u001b[1;34m(n)\u001b[0m\n\u001b[0;32m      1\u001b[0m \u001b[1;32mdef\u001b[0m \u001b[0mparfait\u001b[0m\u001b[1;33m(\u001b[0m\u001b[0mn\u001b[0m\u001b[1;33m)\u001b[0m\u001b[1;33m:\u001b[0m\u001b[1;33m\u001b[0m\u001b[1;33m\u001b[0m\u001b[0m\n\u001b[1;32m----> 2\u001b[1;33m     \u001b[1;32mfor\u001b[0m \u001b[0ma\u001b[0m \u001b[1;32min\u001b[0m \u001b[0mrange\u001b[0m \u001b[1;33m(\u001b[0m\u001b[1;36m1\u001b[0m\u001b[1;33m,\u001b[0m\u001b[0mn\u001b[0m\u001b[1;33m+\u001b[0m\u001b[1;36m1\u001b[0m\u001b[1;33m)\u001b[0m\u001b[1;33m:\u001b[0m\u001b[1;33m\u001b[0m\u001b[1;33m\u001b[0m\u001b[0m\n\u001b[0m\u001b[0;32m      3\u001b[0m         \u001b[0msa\u001b[0m\u001b[1;33m=\u001b[0m\u001b[1;36m0\u001b[0m\u001b[1;33m\u001b[0m\u001b[1;33m\u001b[0m\u001b[0m\n\u001b[0;32m      4\u001b[0m         \u001b[1;32mfor\u001b[0m \u001b[0mi\u001b[0m \u001b[1;32min\u001b[0m \u001b[0mrange\u001b[0m\u001b[1;33m(\u001b[0m\u001b[1;36m1\u001b[0m\u001b[1;33m,\u001b[0m\u001b[0ma\u001b[0m\u001b[1;33m)\u001b[0m\u001b[1;33m:\u001b[0m\u001b[1;33m\u001b[0m\u001b[1;33m\u001b[0m\u001b[0m\n\u001b[0;32m      5\u001b[0m             \u001b[1;32mif\u001b[0m \u001b[0ma\u001b[0m\u001b[1;33m%\u001b[0m\u001b[0mi\u001b[0m\u001b[1;33m==\u001b[0m\u001b[1;36m0\u001b[0m\u001b[1;33m:\u001b[0m\u001b[1;33m\u001b[0m\u001b[1;33m\u001b[0m\u001b[0m\n",
      "\u001b[1;31mTypeError\u001b[0m: can only concatenate str (not \"int\") to str"
     ]
    }
   ],
   "source": [
    "def parfait(n):\n",
    "    for a in range (1,n+1):\n",
    "        sa=0\n",
    "        for i in range(1,a):\n",
    "            if a%i==0:\n",
    "                sa=sa+1\n",
    "        if sa==a:\n",
    "            print(a)\n",
    "parfait(n)\n",
    "            \n"
   ]
  },
  {
   "cell_type": "markdown",
   "id": "f2213c48",
   "metadata": {},
   "source": [
    "# exo2"
   ]
  },
  {
   "cell_type": "code",
   "execution_count": 4,
   "id": "4cf2fb49",
   "metadata": {},
   "outputs": [
    {
     "name": "stdout",
     "output_type": "stream",
     "text": [
      "veuille afficher un mot:y\n",
      " est une voyelle\n"
     ]
    }
   ],
   "source": [
    "alph=(input('veuille afficher un mot:'))\n",
    "if alph == ('a','e','i','o'or 'A','E','I','O'):\n",
    "    print(' est une consonne')\n",
    "else:\n",
    "    print(' est une voyelle')\n"
   ]
  },
  {
   "cell_type": "markdown",
   "id": "0a12eacb",
   "metadata": {},
   "source": [
    "# exo5"
   ]
  },
  {
   "cell_type": "code",
   "execution_count": 7,
   "id": "fe58cb21",
   "metadata": {
    "scrolled": true
   },
   "outputs": [
    {
     "name": "stdout",
     "output_type": "stream",
     "text": [
      "saisie une annee :2020\n",
      "l annee saisie est bissextille\n"
     ]
    }
   ],
   "source": [
    "annee= input ('saisie une annee :')\n",
    "annee=int (annee)\n",
    "bisssextille =False\n",
    "if annee % 400 ==0:\n",
    "    bissextille =True\n",
    "elif annee % 100 ==0:\n",
    "    bissetille =False\n",
    "elif annee % 4==0:\n",
    "    bissextille= True\n",
    "else:\n",
    "    bissetille=False\n",
    "    \n",
    "if bissextille:\n",
    "    print('l annee saisie est bissextille')\n",
    "else:\n",
    "    print('l annee saisie n est pas bissextille')\n",
    "    \n",
    "\n",
    "    \n",
    "    \n",
    "    \n",
    "\n",
    "        "
   ]
  },
  {
   "cell_type": "markdown",
   "id": "d872ef07",
   "metadata": {},
   "source": [
    "# exo4"
   ]
  },
  {
   "cell_type": "code",
   "execution_count": 8,
   "id": "ce08ca11",
   "metadata": {},
   "outputs": [
    {
     "name": "stdout",
     "output_type": "stream",
     "text": [
      "entre le prix de fabrication:a2500\n",
      "entre  le prix de vente:b1500\n",
      "1500 il ya perte\n"
     ]
    }
   ],
   "source": [
    "a=int(input(\"entre le prix de fabrication:a\"))\n",
    "b=int(input(\"entre  le prix de vente:b\"))\n",
    "if a<b:\n",
    "    print(a,\"il ya profit\")\n",
    "else:\n",
    "     print(b,\"il ya perte\")"
   ]
  },
  {
   "cell_type": "markdown",
   "id": "61edfe47",
   "metadata": {},
   "source": [
    "# exo3"
   ]
  },
  {
   "cell_type": "code",
   "execution_count": 9,
   "id": "ef4d38b3",
   "metadata": {},
   "outputs": [
    {
     "name": "stdout",
     "output_type": "stream",
     "text": [
      "veuillez entrer un nombre :7\n",
      "dimanche\n"
     ]
    }
   ],
   "source": [
    "j=int(input('veuillez entrer un nombre :'))\n",
    "if j==1:\n",
    "    print('lundi')\n",
    "if j==2:\n",
    "    print('mardi')\n",
    "if j==3:\n",
    "    print('mercredi')\n",
    "if j==4:\n",
    "    print('jeudi')\n",
    "if j==5:\n",
    "    print('vendredi')\n",
    "if j==6:\n",
    "    print('samedi')\n",
    "if j==7:\n",
    "    print('dimanche')\n",
    "else:\n",
    "    print('veuillez entrer le bon numero')\n",
    "    "
   ]
  }
 ],
 "metadata": {
  "kernelspec": {
   "display_name": "Python 3",
   "language": "python",
   "name": "python3"
  },
  "language_info": {
   "codemirror_mode": {
    "name": "ipython",
    "version": 3
   },
   "file_extension": ".py",
   "mimetype": "text/x-python",
   "name": "python",
   "nbconvert_exporter": "python",
   "pygments_lexer": "ipython3",
   "version": "3.8.8"
  }
 },
 "nbformat": 4,
 "nbformat_minor": 5
}
