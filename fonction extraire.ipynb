{
 "cells": [
  {
   "cell_type": "code",
   "execution_count": 2,
   "id": "0b0123a7",
   "metadata": {},
   "outputs": [
    {
     "name": "stdout",
     "output_type": "stream",
     "text": [
      "la liste des valeurs pair est la suivantes: [2, 4, 6, 8, 10]\n",
      "la liste des valeurs impair est la suivantes: [1, 3, 5, 7, 9]\n",
      "la somme des deux listes est: [3, 7, 11, 15, 19]\n"
     ]
    }
   ],
   "source": [
    "l=[1,2,3,4,5,6,7,8,9,10]\n",
    "val_pair=[]\n",
    "val_impair=[]\n",
    "som=[]\n",
    "for i in l:\n",
    "    if i%2==0:\n",
    "        val_pair.append(i)\n",
    "    else:\n",
    "        val_impair.append(i)\n",
    "print(\"la liste des valeurs pair est la suivantes:\",val_pair)\n",
    "print(\"la liste des valeurs impair est la suivantes:\",val_impair)\n",
    "for i in range(0,5):\n",
    "    som.append(val_pair[i]+val_impair[i])\n",
    "print(\"la somme des deux listes est:\",som)\n",
    "\n"
   ]
  },
  {
   "cell_type": "code",
   "execution_count": null,
   "id": "7507fd70",
   "metadata": {},
   "outputs": [],
   "source": []
  }
 ],
 "metadata": {
  "kernelspec": {
   "display_name": "Python 3",
   "language": "python",
   "name": "python3"
  },
  "language_info": {
   "codemirror_mode": {
    "name": "ipython",
    "version": 3
   },
   "file_extension": ".py",
   "mimetype": "text/x-python",
   "name": "python",
   "nbconvert_exporter": "python",
   "pygments_lexer": "ipython3",
   "version": "3.8.8"
  }
 },
 "nbformat": 4,
 "nbformat_minor": 5
}
