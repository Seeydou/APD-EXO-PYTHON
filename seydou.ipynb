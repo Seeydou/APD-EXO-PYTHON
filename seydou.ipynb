{
 "cells": [
  {
   "cell_type": "code",
   "execution_count": 4,
   "id": "7c228155",
   "metadata": {},
   "outputs": [
    {
     "name": "stdout",
     "output_type": "stream",
     "text": [
      "4 est le minimum\n"
     ]
    }
   ],
   "source": [
    "def minimum(a,b):\n",
    "    if a<b:\n",
    "        minimum=a\n",
    "        print(a,\"est le minimum\")\n",
    "    else:\n",
    "        minimum=b\n",
    "        print(b,\"est le minimum\")\n",
    "minimum(12,4)\n",
    "\n"
   ]
  },
  {
   "cell_type": "code",
   "execution_count": null,
   "id": "3f25167a",
   "metadata": {},
   "outputs": [],
   "source": []
  },
  {
   "cell_type": "code",
   "execution_count": 5,
   "id": "56f969ba",
   "metadata": {},
   "outputs": [
    {
     "name": "stdout",
     "output_type": "stream",
     "text": [
      "34 est le maximum\n"
     ]
    }
   ],
   "source": [
    "def maximum(a,b):\n",
    "    if a>b:\n",
    "        maximum=a\n",
    "        print(a,\"est le maximum\")\n",
    "    else:\n",
    "        maximum=b\n",
    "        print(b,\"est le maximum\")\n",
    "maximum(12,34)"
   ]
  }
 ],
 "metadata": {
  "kernelspec": {
   "display_name": "Python 3",
   "language": "python",
   "name": "python3"
  },
  "language_info": {
   "codemirror_mode": {
    "name": "ipython",
    "version": 3
   },
   "file_extension": ".py",
   "mimetype": "text/x-python",
   "name": "python",
   "nbconvert_exporter": "python",
   "pygments_lexer": "ipython3",
   "version": "3.8.8"
  }
 },
 "nbformat": 4,
 "nbformat_minor": 5
}
